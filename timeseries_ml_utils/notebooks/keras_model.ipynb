{
 "cells": [
  {
   "cell_type": "code",
   "execution_count": 1,
   "metadata": {},
   "outputs": [
    {
     "name": "stderr",
     "output_type": "stream",
     "text": [
      "Using TensorFlow backend.\n"
     ]
    }
   ],
   "source": [
    "from timeseries_ml_utils.data import DataFetcher, DataGenerator\n",
    "from scipy.fftpack import dct, idct\n",
    "from keras.models import Sequential, load_model\n",
    "from keras.layers import Input, Dense, GRU, Embedding, LSTM\n",
    "from keras.optimizers import RMSprop\n",
    "from keras.callbacks import EarlyStopping, ModelCheckpoint, TensorBoard, ReduceLROnPlateau\n",
    "from keras.utils import plot_model\n",
    "from keras.callbacks import TensorBoard\n",
    "import keras\n",
    "import matplotlib.pyplot as plt\n",
    "import re"
   ]
  },
  {
   "cell_type": "code",
   "execution_count": 4,
   "metadata": {},
   "outputs": [
    {
     "data": {
      "text/html": [
       "<div>\n",
       "<style scoped>\n",
       "    .dataframe tbody tr th:only-of-type {\n",
       "        vertical-align: middle;\n",
       "    }\n",
       "\n",
       "    .dataframe tbody tr th {\n",
       "        vertical-align: top;\n",
       "    }\n",
       "\n",
       "    .dataframe thead th {\n",
       "        text-align: right;\n",
       "    }\n",
       "</style>\n",
       "<table border=\"1\" class=\"dataframe\">\n",
       "  <thead>\n",
       "    <tr style=\"text-align: right;\">\n",
       "      <th></th>\n",
       "      <th>GLD.US.Open</th>\n",
       "      <th>GLD.US.High</th>\n",
       "      <th>GLD.US.Low</th>\n",
       "      <th>GLD.US.Close</th>\n",
       "      <th>GLD.US.Volume</th>\n",
       "    </tr>\n",
       "    <tr>\n",
       "      <th>Date</th>\n",
       "      <th></th>\n",
       "      <th></th>\n",
       "      <th></th>\n",
       "      <th></th>\n",
       "      <th></th>\n",
       "    </tr>\n",
       "  </thead>\n",
       "  <tbody>\n",
       "    <tr>\n",
       "      <th>2018-11-12</th>\n",
       "      <td>114.01</td>\n",
       "      <td>114.05</td>\n",
       "      <td>113.58</td>\n",
       "      <td>113.66</td>\n",
       "      <td>7499046</td>\n",
       "    </tr>\n",
       "    <tr>\n",
       "      <th>2018-11-13</th>\n",
       "      <td>113.72</td>\n",
       "      <td>113.93</td>\n",
       "      <td>113.42</td>\n",
       "      <td>113.70</td>\n",
       "      <td>9309074</td>\n",
       "    </tr>\n",
       "    <tr>\n",
       "      <th>2018-11-14</th>\n",
       "      <td>113.53</td>\n",
       "      <td>115.06</td>\n",
       "      <td>113.46</td>\n",
       "      <td>114.64</td>\n",
       "      <td>13950218</td>\n",
       "    </tr>\n",
       "    <tr>\n",
       "      <th>2018-11-15</th>\n",
       "      <td>114.83</td>\n",
       "      <td>114.99</td>\n",
       "      <td>114.56</td>\n",
       "      <td>114.77</td>\n",
       "      <td>8910585</td>\n",
       "    </tr>\n",
       "    <tr>\n",
       "      <th>2018-11-16</th>\n",
       "      <td>115.83</td>\n",
       "      <td>115.88</td>\n",
       "      <td>115.37</td>\n",
       "      <td>115.62</td>\n",
       "      <td>8576955</td>\n",
       "    </tr>\n",
       "  </tbody>\n",
       "</table>\n",
       "</div>"
      ],
      "text/plain": [
       "            GLD.US.Open  GLD.US.High  GLD.US.Low  GLD.US.Close  GLD.US.Volume\n",
       "Date                                                                         \n",
       "2018-11-12       114.01       114.05      113.58        113.66        7499046\n",
       "2018-11-13       113.72       113.93      113.42        113.70        9309074\n",
       "2018-11-14       113.53       115.06      113.46        114.64       13950218\n",
       "2018-11-15       114.83       114.99      114.56        114.77        8910585\n",
       "2018-11-16       115.83       115.88      115.37        115.62        8576955"
      ]
     },
     "execution_count": 4,
     "metadata": {},
     "output_type": "execute_result"
    }
   ],
   "source": [
    "# fetch data\n",
    "data = DataFetcher([\"GLD.US\"], limit=400)\n",
    "data.fetch_data().tail()\n"
   ]
  },
  {
   "cell_type": "code",
   "execution_count": 5,
   "metadata": {},
   "outputs": [
    {
     "name": "stdout",
     "output_type": "stream",
     "text": [
      "400\n",
      "(100, 260, 224)\n",
      "(100, 16)\n"
     ]
    },
    {
     "data": {
      "text/plain": [
       "([('GLD.US.Open', True),\n",
       "  ('GLD.US.High', True),\n",
       "  ('GLD.US.Low', True),\n",
       "  ('GLD.US.Close', True),\n",
       "  ('trigonometric_time.cos_dow', False),\n",
       "  ('trigonometric_time.sin_dow', False),\n",
       "  ('trigonometric_time.cos_woy', False),\n",
       "  ('trigonometric_time.sin_woy', False),\n",
       "  ('trigonometric_time.cos_doy', False),\n",
       "  ('trigonometric_time.sin_doy', False),\n",
       "  ('trigonometric_time.sin_yer', False),\n",
       "  ('trigonometric_time.cos_yer', False),\n",
       "  ('trigonometric_time.sin_dec', False),\n",
       "  ('trigonometric_time.cos_dec', False)],\n",
       " [('GLD.US.Close', True)])"
      ]
     },
     "execution_count": 5,
     "metadata": {},
     "output_type": "execute_result"
    }
   ],
   "source": [
    "print(len(data.get_dataframe()))\n",
    "model_data = DataGenerator(data.get_dataframe(), {\"^trigonometric\": False, \"(Open|High|Low|Close)$\": True}, {\"GLD.US.Close$\": True}, aggregation_window_size=16)\n",
    "print(model_data.batch_feature_shape)\n",
    "print(model_data.batch_label_shape)\n",
    "model_data.features, model_data.labels\n"
   ]
  },
  {
   "cell_type": "code",
   "execution_count": 6,
   "metadata": {},
   "outputs": [
    {
     "name": "stdout",
     "output_type": "stream",
     "text": [
      "[ 0.08206306 -0.0330242   0.04185155 -0.13412641 -0.09821205  0.09963976\n",
      "  0.07405743  0.09497845  0.12112373  0.13143334  0.06866664 -0.00357862\n",
      " -0.08026917 -0.13141754 -0.12587874  0.13704938 -0.0839461   0.09408696\n",
      " -0.00530456  0.06393467  0.03855368 -0.09133528  0.07176223 -0.07212893\n",
      "  0.01656479 -0.08990645 -0.05447047  0.11742646  0.01304977 -0.03246699\n",
      "  0.08120254  0.09567341 -0.02984876 -0.138614   -0.06265507 -0.11114818\n",
      " -0.08198089  0.05587141  0.01400296 -0.10568072  0.07071674  0.08293326\n",
      "  0.11936402 -0.10799177  0.10157792  0.02209719 -0.01852545 -0.05530729\n",
      "  0.07708055  0.04223739  0.0560337  -0.02141678  0.07337326  0.11377952\n",
      " -0.08622105 -0.10229588  0.06336744  0.0917377   0.07158762 -0.00859262\n",
      "  0.13244659  0.12060612  0.03626393  0.12358963]\n"
     ]
    }
   ],
   "source": [
    "model = Sequential()\n",
    "model.add(LSTM(model_data.batch_label_shape[-1],\n",
    "               name=\"LSTM-Layer-1\",\n",
    "               batch_input_shape=model_data.batch_feature_shape,\n",
    "               activation='tanh',\n",
    "               dropout=0,\n",
    "               recurrent_dropout=0,\n",
    "               stateful=True,\n",
    "               return_sequences=model_data.return_sequences))\n",
    "\n",
    "model.compile(\"Adam\", loss=\"mse\")\n",
    "print(model.layers[0].get_weights()[0][0])\n",
    "model.save(\"/tmp/keras-foo-1.h5\")"
   ]
  },
  {
   "cell_type": "code",
   "execution_count": null,
   "metadata": {},
   "outputs": [
    {
     "name": "stdout",
     "output_type": "stream",
     "text": [
      "Epoch 1/1\n",
      " 9/20 [============>.................] - ETA: 8s - loss: 0.7369"
     ]
    }
   ],
   "source": [
    "model = load_model(\"/tmp/keras-foo-1.h5\")\n",
    "hist = model.fit_generator(generator=model_data,\n",
    "                           validation_data=model_data.as_test_data_generator(model),\n",
    "                           epochs=1,\n",
    "                           use_multiprocessing=True,\n",
    "                           workers=4,\n",
    "                           shuffle=False,\n",
    "                           callbacks=[TensorBoard(log_dir='./logs')])\n"
   ]
  },
  {
   "cell_type": "code",
   "execution_count": null,
   "metadata": {},
   "outputs": [],
   "source": [
    "td = model_data.as_test_data_generator(model)\n",
    "td.on_epoch_end()\n",
    "td.accuracy[\"epoch\"].hist(figsize=(10, 7))"
   ]
  },
  {
   "cell_type": "code",
   "execution_count": null,
   "metadata": {},
   "outputs": [],
   "source": []
  }
 ],
 "metadata": {
  "kernelspec": {
   "display_name": "Python 3",
   "language": "python",
   "name": "python3"
  },
  "language_info": {
   "codemirror_mode": {
    "name": "ipython",
    "version": 3
   },
   "file_extension": ".py",
   "mimetype": "text/x-python",
   "name": "python",
   "nbconvert_exporter": "python",
   "pygments_lexer": "ipython3",
   "version": "3.6.6"
  }
 },
 "nbformat": 4,
 "nbformat_minor": 1
}
