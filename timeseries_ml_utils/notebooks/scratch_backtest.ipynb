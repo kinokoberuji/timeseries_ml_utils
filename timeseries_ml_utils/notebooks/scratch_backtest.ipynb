{
 "cells": [
  {
   "cell_type": "code",
   "execution_count": 4,
   "metadata": {
    "collapsed": false
   },
   "outputs": [
    {
     "name": "stdout",
     "output_type": "stream",
     "text": [
      "350\n"
     ]
    },
    {
     "data": {
      "text/html": [
       "<div>\n",
       "<style scoped>\n",
       "    .dataframe tbody tr th:only-of-type {\n",
       "        vertical-align: middle;\n",
       "    }\n",
       "\n",
       "    .dataframe tbody tr th {\n",
       "        vertical-align: top;\n",
       "    }\n",
       "\n",
       "    .dataframe thead th {\n",
       "        text-align: right;\n",
       "    }\n",
       "</style>\n",
       "<table border=\"1\" class=\"dataframe\">\n",
       "  <thead>\n",
       "    <tr style=\"text-align: right;\">\n",
       "      <th></th>\n",
       "      <th>GLD.US.Open</th>\n",
       "      <th>GLD.US.High</th>\n",
       "      <th>GLD.US.Low</th>\n",
       "      <th>GLD.US.Close</th>\n",
       "      <th>GLD.US.Volume</th>\n",
       "    </tr>\n",
       "    <tr>\n",
       "      <th>Date</th>\n",
       "      <th></th>\n",
       "      <th></th>\n",
       "      <th></th>\n",
       "      <th></th>\n",
       "      <th></th>\n",
       "    </tr>\n",
       "  </thead>\n",
       "  <tbody>\n",
       "    <tr>\n",
       "      <th>2018-12-10</th>\n",
       "      <td>117.70</td>\n",
       "      <td>117.94</td>\n",
       "      <td>117.420</td>\n",
       "      <td>117.68</td>\n",
       "      <td>8118110</td>\n",
       "    </tr>\n",
       "    <tr>\n",
       "      <th>2018-12-11</th>\n",
       "      <td>117.67</td>\n",
       "      <td>117.89</td>\n",
       "      <td>117.350</td>\n",
       "      <td>117.54</td>\n",
       "      <td>6395391</td>\n",
       "    </tr>\n",
       "    <tr>\n",
       "      <th>2018-12-12</th>\n",
       "      <td>117.70</td>\n",
       "      <td>117.95</td>\n",
       "      <td>117.612</td>\n",
       "      <td>117.79</td>\n",
       "      <td>4136781</td>\n",
       "    </tr>\n",
       "    <tr>\n",
       "      <th>2018-12-13</th>\n",
       "      <td>117.54</td>\n",
       "      <td>117.62</td>\n",
       "      <td>117.260</td>\n",
       "      <td>117.53</td>\n",
       "      <td>4131770</td>\n",
       "    </tr>\n",
       "    <tr>\n",
       "      <th>2018-12-14</th>\n",
       "      <td>116.63</td>\n",
       "      <td>117.30</td>\n",
       "      <td>116.580</td>\n",
       "      <td>117.06</td>\n",
       "      <td>7501660</td>\n",
       "    </tr>\n",
       "  </tbody>\n",
       "</table>\n",
       "</div>"
      ],
      "text/plain": [
       "<div>\n",
       "<style scoped>\n",
       "    .dataframe tbody tr th:only-of-type {\n",
       "        vertical-align: middle;\n",
       "    }\n",
       "\n",
       "    .dataframe tbody tr th {\n",
       "        vertical-align: top;\n",
       "    }\n",
       "\n",
       "    .dataframe thead th {\n",
       "        text-align: right;\n",
       "    }\n",
       "</style>\n",
       "<table border=\"1\" class=\"dataframe\">\n",
       "  <thead>\n",
       "    <tr style=\"text-align: right;\">\n",
       "      <th></th>\n",
       "      <th>GLD.US.Open</th>\n",
       "      <th>GLD.US.High</th>\n",
       "      <th>GLD.US.Low</th>\n",
       "      <th>GLD.US.Close</th>\n",
       "      <th>GLD.US.Volume</th>\n",
       "    </tr>\n",
       "    <tr>\n",
       "      <th>Date</th>\n",
       "      <th></th>\n",
       "      <th></th>\n",
       "      <th></th>\n",
       "      <th></th>\n",
       "      <th></th>\n",
       "    </tr>\n",
       "  </thead>\n",
       "  <tbody>\n",
       "    <tr>\n",
       "      <th>2018-12-10</th>\n",
       "      <td>117.70</td>\n",
       "      <td>117.94</td>\n",
       "      <td>117.420</td>\n",
       "      <td>117.68</td>\n",
       "      <td>8118110</td>\n",
       "    </tr>\n",
       "    <tr>\n",
       "      <th>2018-12-11</th>\n",
       "      <td>117.67</td>\n",
       "      <td>117.89</td>\n",
       "      <td>117.350</td>\n",
       "      <td>117.54</td>\n",
       "      <td>6395391</td>\n",
       "    </tr>\n",
       "    <tr>\n",
       "      <th>2018-12-12</th>\n",
       "      <td>117.70</td>\n",
       "      <td>117.95</td>\n",
       "      <td>117.612</td>\n",
       "      <td>117.79</td>\n",
       "      <td>4136781</td>\n",
       "    </tr>\n",
       "    <tr>\n",
       "      <th>2018-12-13</th>\n",
       "      <td>117.54</td>\n",
       "      <td>117.62</td>\n",
       "      <td>117.260</td>\n",
       "      <td>117.53</td>\n",
       "      <td>4131770</td>\n",
       "    </tr>\n",
       "    <tr>\n",
       "      <th>2018-12-14</th>\n",
       "      <td>116.63</td>\n",
       "      <td>117.30</td>\n",
       "      <td>116.580</td>\n",
       "      <td>117.06</td>\n",
       "      <td>7501660</td>\n",
       "    </tr>\n",
       "  </tbody>\n",
       "</table>\n",
       "</div>"
      ]
     },
     "execution_count": 4,
     "metadata": {},
     "output_type": "execute_result"
    }
   ],
   "source": [
    "import matplotlib.pyplot as plt\n",
    "\n",
    "from timeseries_ml_utils.data import *\n",
    "from timeseries_ml_utils.encoders import *\n",
    "from scipy.stats import linregress\n",
    "from numpy.random.mtrand import RandomState\n",
    "\n",
    "# fetch data\n",
    "data = DataFetcher([\"GLD.US\"], limit=350)\n",
    "data.fetch_data().tail()\n",
    "\n",
    "print(len(data.get_dataframe()))\n"
   ]
  },
  {
   "cell_type": "code",
   "execution_count": 21,
   "metadata": {},
   "outputs": [
    {
     "data": {
      "text/plain": [
       "array([10, 20, 30, 40])"
      ]
     },
     "execution_count": 21,
     "metadata": {},
     "output_type": "execute_result"
    }
   ],
   "source": [
    "def slope_encoder(y, ref, encode):\n",
    "    if encode:\n",
    "        x = np.arange(0, len(y))\n",
    "        slope, intercept, r_value, p_value, std_err = linregress(x, y)\n",
    "        vec = np.zeros(len(y))\n",
    "        vec[0] = slope\n",
    "        return vec\n",
    "    else:\n",
    "        slope = y[0]\n",
    "        return np.array([ref + slope * i for i in range(len(y))])\n",
    "\n",
    "\n",
    "def batch_predictor(batch):\n",
    "    return np.array([sample[-1] for sample in batch])\n",
    "\n",
    "\n",
    "slope_encoder(np.array([10, 20, 30, 40]), 0, True)\n",
    "slope_encoder(np.array([10, 20, 30, 40]), 10, False)\n"
   ]
  },
  {
   "cell_type": "code",
   "execution_count": 23,
   "metadata": {},
   "outputs": [],
   "source": [
    "model_data = DataGenerator(data.get_dataframe(),  \n",
    "                           {\"Close$\": slope_encoder}, \n",
    "                           {\"Close$\": slope_encoder},\n",
    "                           lstm_memory_size=1, aggregation_window_size=16, batch_size=10, \n",
    "                           model_filename=\"/tmp/lin_reg_1.h5\")\n"
   ]
  },
  {
   "cell_type": "code",
   "execution_count": 25,
   "metadata": {},
   "outputs": [],
   "source": [
    "backtest = model_data.back_test(batch_predictor)\n"
   ]
  },
  {
   "cell_type": "code",
   "execution_count": 45,
   "metadata": {
    "collapsed": false
   },
   "outputs": [
    {
     "data": {
      "image/png": "[encoded data removed]",
      "text/plain": [
       "<Figure size 432x288 with 1 Axes>"
      ]
     },
     "metadata": {},
     "output_type": "display_data"
    },
    {
     "data": {
      "image/png": "[encoded data removed]",
      "text/plain": [
       "<Figure size 432x288 with 1 Axes>"
      ]
     },
     "metadata": {},
     "output_type": "display_data"
    }
   ],
   "source": [
    "backtest.set_confidence(0.5)\n",
    "# backtest.plot_random_sample()\n",
    "backtest.hist()"
   ]
  },
  {
   "cell_type": "code",
   "execution_count": 2,
   "metadata": {},
   "outputs": [],
   "source": [
    "ref_value_decoders = [(col, lambda x, ref, _: np.repeat(ref, len(x))) for col, _ in model_data.labels]\n",
    "x = model_data.back_test(lambda x: x[:, -1], ref_value_decoders)"
   ]
  },
  {
   "cell_type": "code",
   "execution_count": 1,
   "metadata": {},
   "outputs": [
    {
     "ename": "NameError",
     "evalue": "name 'x' is not defined",
     "traceback": [
      "\u001b[0;31m---------------------------------------------------------------------------\u001b[0m",
      "\u001b[0;31mNameError\u001b[0m                                 Traceback (most recent call last)",
      "\u001b[0;32m<ipython-input-1-bfa661e603cb>\u001b[0m in \u001b[0;36m<module>\u001b[0;34m()\u001b[0m\n\u001b[0;32m----> 1\u001b[0;31m \u001b[0mx\u001b[0m\u001b[0;34m.\u001b[0m\u001b[0mset_confidence\u001b[0m\u001b[0;34m(\u001b[0m\u001b[0;36m.80\u001b[0m\u001b[0;34m)\u001b[0m\u001b[0;34m\u001b[0m\u001b[0;34m\u001b[0m\u001b[0m\n\u001b[0m\u001b[1;32m      2\u001b[0m \u001b[0mx\u001b[0m\u001b[0;34m.\u001b[0m\u001b[0mplot_random_sample\u001b[0m\u001b[0;34m(\u001b[0m\u001b[0;34m)\u001b[0m\u001b[0;34m\u001b[0m\u001b[0;34m\u001b[0m\u001b[0m\n",
      "\u001b[0;31mNameError\u001b[0m: name 'x' is not defined"
     ],
     "output_type": "error"
    }
   ],
   "source": [
    "x.set_confidence(.80)\n",
    "x.plot_random_sample()"
   ]
  },
  {
   "cell_type": "code",
   "execution_count": 112,
   "metadata": {},
   "outputs": [],
   "source": [
    "# mock a lstm 1 aggregation 1 log return model using same seeded random numbers. check confusion Matrix\n",
    "sigma = 0.006083740376442096  # (np.log(data.get_dataframe()[\"GLD.US.Close\"]) - np.log(data.get_dataframe()[\"GLD.US.Close\"].shift(1))).std()\n",
    "\n",
    "rand = RandomState()\n",
    "\n",
    "\n",
    "def log_return_encoder(y, ref, is_encoding):\n",
    "    if is_encoding:\n",
    "        return np.log(y / ref)\n",
    "    else:\n",
    "        return np.exp(y) * ref\n",
    "\n",
    "\n",
    "def batch_log_return_predictor(batch):\n",
    "    return np.array([np.array([[rand.lognormal(0, sigma) - 1.0]]) for _ in batch])\n",
    "\n",
    "\n",
    "model_logreturn = DataGenerator(data.get_dataframe(),  \n",
    "                                {\"Close$\": log_return_encoder}, \n",
    "                                {\"Close$\": log_return_encoder},\n",
    "                                lstm_memory_size=1, aggregation_window_size=1, batch_size=1, \n",
    "                                model_filename=\"/tmp/log_normal_1.h5\")\n"
   ]
  },
  {
   "cell_type": "code",
   "execution_count": 114,
   "metadata": {
    "collapsed": false
   },
   "outputs": [],
   "source": [
    "backtest_log_return = model_logreturn.back_test(batch_log_return_predictor)\n"
   ]
  },
  {
   "cell_type": "code",
   "execution_count": 117,
   "metadata": {},
   "outputs": [
    {
     "data": {
      "text/plain": [
       "{'GLD.US.Close': array([[66, 70],\n        [59, 85]])}"
      ]
     },
     "execution_count": 117,
     "metadata": {},
     "output_type": "execute_result"
    }
   ],
   "source": [
    "backtest_log_return.confusion_matrix()"
   ]
  },
  {
   "cell_type": "code",
   "execution_count": 121,
   "metadata": {},
   "outputs": [
    {
     "data": {
      "image/png": "[encoded data removed]",
      "text/plain": [
       "<Figure size 432x288 with 1 Axes>"
      ]
     },
     "metadata": {},
     "output_type": "display_data"
    },
    {
     "data": {
      "image/png": "[encoded data removed]",
      "text/plain": [
       "<Figure size 432x288 with 1 Axes>"
      ]
     },
     "metadata": {},
     "output_type": "display_data"
    }
   ],
   "source": [
    "backtest_log_return.hist()"
   ]
  }
 ],
 "metadata": {
  "kernelspec": {
   "display_name": "Python 2",
   "language": "python",
   "name": "python2"
  },
  "language_info": {
   "codemirror_mode": {
    "name": "ipython",
    "version": 2
   },
   "file_extension": ".py",
   "mimetype": "text/x-python",
   "name": "python",
   "nbconvert_exporter": "python",
   "pygments_lexer": "ipython2",
   "version": "2.7.6"
  }
 },
 "nbformat": 4,
 "nbformat_minor": 0
}
