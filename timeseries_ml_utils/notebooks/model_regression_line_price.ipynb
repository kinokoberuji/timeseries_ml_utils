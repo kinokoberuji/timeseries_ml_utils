{
 "cells": [
  {
   "cell_type": "code",
   "execution_count": 1,
   "metadata": {},
   "outputs": [
    {
     "name": "stderr",
     "output_type": "stream",
     "text": [
      "Using TensorFlow backend.\n"
     ]
    },
    {
     "name": "stdout",
     "output_type": "stream",
     "text": [
      "            GLD.US.Open  GLD.US.High  GLD.US.Low  GLD.US.Close  GLD.US.Volume\n",
      "Date                                                                         \n",
      "2018-12-10       117.70       117.94     117.420        117.68        8118110\n",
      "2018-12-11       117.67       117.89     117.350        117.54        6395391\n",
      "2018-12-12       117.70       117.95     117.612        117.79        4136781\n",
      "2018-12-13       117.54       117.62     117.260        117.53        4131770\n",
      "2018-12-14       116.63       117.30     116.580        117.06        7501660\n",
      "2253\n"
     ]
    }
   ],
   "source": [
    "from keras.layers import LSTM\n",
    "from keras.models import Sequential, load_model\n",
    "\n",
    "from timeseries_ml_utils.data import *\n",
    "from timeseries_ml_utils.statistics import *\n",
    "from timeseries_ml_utils.encoders import *\n",
    "\n",
    "import matplotlib.pyplot as plt\n",
    "\n",
    "# encoders and decoders\n",
    "linreg = RegressionLine(16)\n",
    "\n",
    "# fetch data\n",
    "#data = DataFetcher([\"GLD.US\"], limit=350)  # 550\n",
    "data = DataFetcher([\"GLD.US\"])\n",
    "\n",
    "print(data.fetch_data().tail())\n",
    "print(len(data.get_dataframe()))\n"
   ]
  },
  {
   "cell_type": "code",
   "execution_count": 2,
   "metadata": {},
   "outputs": [],
   "source": [
    "def regression_encode_decode(y, ref, encode):\n",
    "    if encode:\n",
    "        x = np.arange(0, len(y))\n",
    "        y = normalize(y, ref, True)\n",
    "        slope, intercept, r_value, p_value, std_err = linregress(x, y)\n",
    "        return np.array([intercept + slope * i for i in range(len(y))])\n",
    "    else:\n",
    "        return normalize(y, ref, False)\n"
   ]
  },
  {
   "cell_type": "code",
   "execution_count": 3,
   "metadata": {},
   "outputs": [
    {
     "name": "stdout",
     "output_type": "stream",
     "text": [
      "['GLD.US.Open', 'GLD.US.High', 'GLD.US.Low', 'GLD.US.Close', 'GLD.US.Volume', 'GLD.US.Open_variance', 'GLD.US.High_variance', 'GLD.US.Low_variance', 'GLD.US.Close_variance', 'GLD.US.Volume_variance', 'trigonometric_time.cos_dow', 'trigonometric_time.sin_dow', 'trigonometric_time.cos_woy', 'trigonometric_time.sin_woy', 'trigonometric_time.cos_doy', 'trigonometric_time.sin_doy', 'trigonometric_time.sin_yer', 'trigonometric_time.cos_yer', 'trigonometric_time.sin_dec', 'trigonometric_time.cos_dec']\n",
      "feature shape: (10, 260, 224)\n",
      "labels shape: (10, 16)\n",
      "train/test data: 1564 390\n",
      "max batch size: 2\n"
     ]
    },
    {
     "data": {
      "text/plain": [
       "([('GLD.US.Open', <function timeseries_ml_utils.encoders.normalize>),\n",
       "  ('GLD.US.High', <function timeseries_ml_utils.encoders.normalize>),\n",
       "  ('GLD.US.Low', <function timeseries_ml_utils.encoders.normalize>),\n",
       "  ('GLD.US.Close', <function timeseries_ml_utils.encoders.normalize>),\n",
       "  ('trigonometric_time.cos_dow',\n",
       "   <function timeseries_ml_utils.encoders.identity>),\n",
       "  ('trigonometric_time.sin_dow',\n",
       "   <function timeseries_ml_utils.encoders.identity>),\n",
       "  ('trigonometric_time.cos_woy',\n",
       "   <function timeseries_ml_utils.encoders.identity>),\n",
       "  ('trigonometric_time.sin_woy',\n",
       "   <function timeseries_ml_utils.encoders.identity>),\n",
       "  ('trigonometric_time.cos_doy',\n",
       "   <function timeseries_ml_utils.encoders.identity>),\n",
       "  ('trigonometric_time.sin_doy',\n",
       "   <function timeseries_ml_utils.encoders.identity>),\n",
       "  ('trigonometric_time.sin_yer',\n",
       "   <function timeseries_ml_utils.encoders.identity>),\n",
       "  ('trigonometric_time.cos_yer',\n",
       "   <function timeseries_ml_utils.encoders.identity>),\n",
       "  ('trigonometric_time.sin_dec',\n",
       "   <function timeseries_ml_utils.encoders.identity>),\n",
       "  ('trigonometric_time.cos_dec',\n",
       "   <function timeseries_ml_utils.encoders.identity>)],\n",
       " [('GLD.US.Close', <function __main__.regression_encode_decode>)])"
      ]
     },
     "execution_count": 3,
     "metadata": {},
     "output_type": "execute_result"
    }
   ],
   "source": [
    "model_data = DataGenerator(data.get_dataframe(), \n",
    "                           {\"^trigonometric\": identity, \n",
    "                            \"(Open|High|Low|Close)$\": normalize}, \n",
    "                           {\"GLD.US.Close$\": regression_encode_decode},\n",
    "                           aggregation_window_size=16, batch_size=10, \n",
    "                           training_percentage=0.8,\n",
    "                           model_filename=\"/tmp/keras-regression-line-price-1.h5\")\n",
    "print(model_data.get_df_columns())\n",
    "print(\"feature shape:\", model_data.batch_feature_shape)\n",
    "print(\"labels shape:\", model_data.batch_label_shape)\n",
    "print(\"train/test data:\", len(model_data), len(model_data.as_test_data_generator()))\n",
    "print(\"max batch size:\", model_data.get_max_batch_size())\n",
    "model_data.features, model_data.labels\n"
   ]
  },
  {
   "cell_type": "code",
   "execution_count": 4,
   "metadata": {},
   "outputs": [
    {
     "name": "stdout",
     "output_type": "stream",
     "text": [
      "Epoch 1/1\n",
      "1564/1564 [==============================] - 663s 424ms/step - loss: 7.8074e-04 - mean_absolute_error: 0.0209 - acc: 0.2068 - val_loss: 5.7320e-04 - val_mean_absolute_error: 0.0179 - val_acc: 0.2359\n"
     ]
    },
    {
     "data": {
      "image/png": "[encoded data removed]",
      "text/plain": [
       "<Figure size 432x288 with 1 Axes>"
      ]
     },
     "execution_count": 4,
     "metadata": {},
     "output_type": "execute_result"
    }
   ],
   "source": [
    "\n",
    "model = Sequential(name=\"LSTM-Model-1\")\n",
    "model.add(LSTM(model_data.batch_label_shape[-1],\n",
    "               name=\"LSTM-Layer-1\",\n",
    "               batch_input_shape=model_data.batch_feature_shape,\n",
    "               activation='tanh',\n",
    "               dropout=0,\n",
    "               recurrent_dropout=0,\n",
    "               stateful=True,\n",
    "               return_sequences=True))\n",
    "\n",
    "model.add(LSTM(model_data.batch_label_shape[-1] * 2,\n",
    "               name=\"LSTM-Layer-2\",\n",
    "               activation='tanh',\n",
    "               dropout=0,\n",
    "               recurrent_dropout=0,\n",
    "               stateful=True,\n",
    "               return_sequences=True))\n",
    "\n",
    "model.add(LSTM(model_data.batch_label_shape[-1],\n",
    "               name=\"LSTM-Layer-3\",\n",
    "               activation='tanh',\n",
    "               dropout=0,\n",
    "               recurrent_dropout=0,\n",
    "               stateful=True,\n",
    "               return_sequences=model_data.return_sequences))\n",
    "\n",
    "model.compile(\"Adam\", loss=\"mse\", metrics=['mae', 'acc'])\n",
    "\n",
    "train_args = {\"epochs\": 1,\n",
    "              \"use_multiprocessing\": True,\n",
    "              \"workers\": 4,\n",
    "              \"shuffle\": False,\n",
    "              \"verbose\": 1}\n",
    "\n",
    "fit = model_data.fit(model, train_args, frequency=10, relative_accuracy_function=r_square, log_dir=\"/tmp/foo.123/\")\n",
    "fit[\"back_test\"].plot_hist()"
   ]
  },
  {
   "cell_type": "code",
   "execution_count": 16,
   "metadata": {},
   "outputs": [
    {
     "data": {
      "image/png": "[encoded data removed]",
      "text/plain": [
       "<Figure size 432x288 with 1 Axes>"
      ]
     },
     "execution_count": 16,
     "metadata": {},
     "output_type": "execute_result"
    }
   ],
   "source": [
    "fit[\"back_test\"].plot_random_sample()"
   ]
  },
  {
   "cell_type": "code",
   "execution_count": 17,
   "metadata": {},
   "outputs": [
    {
     "data": {
      "text/plain": [
       "'/tmp/keras-regression-line-price-1.h5'"
      ]
     },
     "execution_count": 17,
     "metadata": {},
     "output_type": "execute_result"
    }
   ],
   "source": [
    "fit[\"file_name\"]"
   ]
  }
 ],
 "metadata": {
  "kernelspec": {
   "display_name": "Python 3",
   "language": "python",
   "name": "python3"
  },
  "language_info": {
   "codemirror_mode": {
    "name": "ipython",
    "version": 3
   },
   "file_extension": ".py",
   "mimetype": "text/x-python",
   "name": "python",
   "nbconvert_exporter": "python",
   "pygments_lexer": "ipython3",
   "version": "3.6.6"
  }
 },
 "nbformat": 4,
 "nbformat_minor": 2
}
